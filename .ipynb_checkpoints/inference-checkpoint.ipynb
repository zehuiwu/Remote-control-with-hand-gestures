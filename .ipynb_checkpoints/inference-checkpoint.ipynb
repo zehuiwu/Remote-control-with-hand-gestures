{
 "cells": [
  {
   "cell_type": "code",
   "execution_count": 1,
   "id": "623c7fb2",
   "metadata": {},
   "outputs": [],
   "source": [
    "from inference_tvm import inference"
   ]
  },
  {
   "cell_type": "code",
   "execution_count": null,
   "id": "4ae022a5",
   "metadata": {},
   "outputs": [
    {
     "name": "stdout",
     "output_type": "stream",
     "text": [
      "68265 No gesture\n"
     ]
    }
   ],
   "source": [
    "inference()"
   ]
  }
 ],
 "metadata": {
  "kernelspec": {
   "display_name": "Python 3",
   "language": "python",
   "name": "python3"
  },
  "language_info": {
   "codemirror_mode": {
    "name": "ipython",
    "version": 3
   },
   "file_extension": ".py",
   "mimetype": "text/x-python",
   "name": "python",
   "nbconvert_exporter": "python",
   "pygments_lexer": "ipython3",
   "version": "3.6.9"
  }
 },
 "nbformat": 4,
 "nbformat_minor": 5
}
