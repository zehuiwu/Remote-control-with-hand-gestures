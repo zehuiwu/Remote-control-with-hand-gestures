{
 "cells": [
  {
   "cell_type": "code",
   "execution_count": 2,
   "id": "8cce6066-89ca-4bad-a665-c3474653264c",
   "metadata": {},
   "outputs": [
    {
     "name": "stdout",
     "output_type": "stream",
     "text": [
      "Requirement already satisfied: pywinauto in c:\\users\\kingo\\anaconda3\\lib\\site-packages (0.6.8)\n",
      "Requirement already satisfied: six in c:\\users\\kingo\\anaconda3\\lib\\site-packages (from pywinauto) (1.15.0)\n",
      "Requirement already satisfied: comtypes in c:\\users\\kingo\\anaconda3\\lib\\site-packages (from pywinauto) (1.1.9)\n",
      "Requirement already satisfied: pywin32 in c:\\users\\kingo\\anaconda3\\lib\\site-packages (from pywinauto) (227)\n"
     ]
    }
   ],
   "source": [
    "!pip install pywinauto"
   ]
  },
  {
   "cell_type": "code",
   "execution_count": null,
   "id": "04a96932-bc07-4fdc-83b1-41ab10042d36",
   "metadata": {},
   "outputs": [
    {
     "name": "stdout",
     "output_type": "stream",
     "text": [
      "Received message: No gesture\n"
     ]
    }
   ],
   "source": [
    "# Message Receiver\n",
    "import win32gui, win32con\n",
    "import os\n",
    "import subprocess\n",
    "from socket import *\n",
    "from IPython.display import clear_output\n",
    "import pyautogui\n",
    "import time\n",
    "\n",
    "host = \"192.168.1.193\"\n",
    "port = 13000\n",
    "buf = 1024\n",
    "addr = (host, port)\n",
    "UDPSock = socket(AF_INET, SOCK_DGRAM)\n",
    "UDPSock.bind(addr)\n",
    "\n",
    "print(\"Waiting to receive messages...\")\n",
    "new_data = \"\"\n",
    "try:\n",
    "    while True:\n",
    "        old_data = new_data\n",
    "        (new_data, addr) = UDPSock.recvfrom(buf)\n",
    "        new_data = new_data.decode()\n",
    "        print(\"Received message: \" + new_data)\n",
    "        \n",
    "        #avoid repeating actions\n",
    "        if(new_data == old_data):\n",
    "            clear_output(wait=True)\n",
    "            continue\n",
    "            \n",
    "        if(new_data==\"Shaking Hand\"):\n",
    "            os.startfile(\"C:\\\\Program Files\\\\Google\\\\Chrome\\\\Application\\\\chrome.exe\")\n",
    "            #hwnd = win32gui.FindWindowEx(0,0,0, \"S\")\n",
    "            #win32gui.SetForegroundWindow(hwnd)\n",
    "        elif(new_data==\"Stop Sign\"):\n",
    "            #os.system(\"TASKKILL /F /IM steam.exe\")\n",
    "            Minimize = win32gui.GetForegroundWindow()\n",
    "            print(Minimize)\n",
    "            win32gui.ShowWindow(Minimize, win32con.SW_MINIMIZE)\n",
    "        elif(new_data==\"Thumb Down\"):\n",
    "            pyautogui.hotkey('PgDn')         \n",
    "        elif(new_data==\"Thumb Up\"):\n",
    "            pyautogui.hotkey('PgUp')\n",
    "        elif(new_data==\"Swiping Left\" and old_data!=\"Swiping Right\"):\n",
    "            pyautogui.hotkey('ctrl', 'shift','tab')\n",
    "        elif(new_data==\"Swiping Right\" and old_data!=\"Swiping Left\"):\n",
    "            pyautogui.hotkey('ctrl','tab')\n",
    "#         elif(new_data==\"Sliding Two Fingers Up\" and old_data!=\"Sliding Two Fingers Down\"):\n",
    "#             pyautogui.hotkey('PgUp')\n",
    "#         elif(new_data==\"Sliding Two Fingers Down\" and old_data!=\"Sliding Two Fingers Up\"):\n",
    "#             pyautogui.hotkey('PgDn')\n",
    "        elif(new_data==\"Zooming In With Two Fingers\" and old_data!=\"Zooming Out With Two Fingers\"):\n",
    "            pyautogui.hotkey('ctrl','+')\n",
    "        elif(new_data==\"Zooming Out With Two Fingers\" and old_data!=\"Zooming In With Two Fingers\"):\n",
    "            pyautogui.hotkey('ctrl','-')\n",
    "#         elif(new_data==\"Drumming Fingers\"):\n",
    "\n",
    "        \n",
    "        clear_output(wait=True)\n",
    "        \n",
    "except KeyboardInterrupt:\n",
    "    print('Stop receiving!')\n",
    "    UDPSock.close()\n",
    "    os._exit(0)"
   ]
  }
 ],
 "metadata": {
  "kernelspec": {
   "display_name": "Python 3",
   "language": "python",
   "name": "python3"
  },
  "language_info": {
   "codemirror_mode": {
    "name": "ipython",
    "version": 3
   },
   "file_extension": ".py",
   "mimetype": "text/x-python",
   "name": "python",
   "nbconvert_exporter": "python",
   "pygments_lexer": "ipython3",
   "version": "3.8.8"
  }
 },
 "nbformat": 4,
 "nbformat_minor": 5
}
